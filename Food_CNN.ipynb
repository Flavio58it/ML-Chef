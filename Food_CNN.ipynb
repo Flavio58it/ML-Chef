{
 "cells": [
  {
   "cell_type": "code",
   "execution_count": 26,
   "metadata": {
    "colab": {
     "base_uri": "https://localhost:8080/",
     "height": 34
    },
    "colab_type": "code",
    "id": "gnHvNy47xOc6",
    "outputId": "4645ee8b-3d61-44d7-d9fe-b1618e67a5a4"
   },
   "outputs": [],
   "source": [
    "# Dependencies\n",
    "import matplotlib.pyplot as plt\n",
    "%matplotlib inline\n",
    "\n",
    "import os\n",
    "import numpy as np\n",
    "import tensorflow as tf\n",
    "\n",
    "import keras\n",
    "from keras.preprocessing import image\n",
    "from keras.applications.xception import (\n",
    "    Xception, preprocess_input, decode_predictions)\n",
    "\n",
    "\n",
    "# Convolutional Neural Network\n",
    "\n",
    "# Installing Theano\n",
    "# pip install --upgrade --no-deps git+git://github.com/Theano/Theano.git\n",
    "\n",
    "# Installing Tensorflow\n",
    "# Install Tensorflow from the website: https://www.tensorflow.org/versions/r0.12/get_started/os_setup.html\n",
    "\n",
    "# Installing Keras\n",
    "# pip install --upgrade keras\n",
    "\n",
    "# Part 1 - Building the CNN\n",
    "\n",
    "# Importing the Keras libraries and packages\n",
    "from keras.models import Sequential\n",
    "from keras.layers import Convolution2D\n",
    "from keras.layers import MaxPooling2D\n",
    "from keras.layers import Flatten\n",
    "from keras.layers import Dense"
   ]
  },
  {
   "cell_type": "code",
   "execution_count": 10,
   "metadata": {
    "colab": {
     "base_uri": "https://localhost:8080/",
     "height": 101
    },
    "colab_type": "code",
    "id": "GTYRYC2mxZ84",
    "outputId": "5489559a-e8ce-47c8-8242-7dcf3b0120e6"
   },
   "outputs": [
    {
     "name": "stderr",
     "output_type": "stream",
     "text": [
      "C:\\Users\\carri\\Anaconda\\Anaconda3\\lib\\site-packages\\ipykernel_launcher.py:7: UserWarning: Update your `Conv2D` call to the Keras 2 API: `Conv2D(32, (3, 3), input_shape=(64, 64, 3..., activation=\"relu\")`\n",
      "  import sys\n",
      "C:\\Users\\carri\\Anaconda\\Anaconda3\\lib\\site-packages\\ipykernel_launcher.py:13: UserWarning: Update your `Conv2D` call to the Keras 2 API: `Conv2D(32, (3, 3), activation=\"relu\")`\n",
      "  del sys.path[0]\n",
      "C:\\Users\\carri\\Anaconda\\Anaconda3\\lib\\site-packages\\ipykernel_launcher.py:20: UserWarning: Update your `Dense` call to the Keras 2 API: `Dense(activation=\"relu\", units=144)`\n",
      "C:\\Users\\carri\\Anaconda\\Anaconda3\\lib\\site-packages\\ipykernel_launcher.py:21: UserWarning: Update your `Dense` call to the Keras 2 API: `Dense(activation=\"sigmoid\", units=72)`\n"
     ]
    }
   ],
   "source": [
    "from keras.preprocessing.image import ImageDataGenerator\n",
    "\n",
    "# Initialising the CNN\n",
    "classifier = Sequential()\n",
    "\n",
    "# Step 1 - Convolution\n",
    "classifier.add(Convolution2D(32, 3, 3, input_shape = (64, 64, 3), activation = 'relu'))\n",
    "\n",
    "# Step 2 - Pooling\n",
    "classifier.add(MaxPooling2D(pool_size = (2, 2)))\n",
    "\n",
    "# Adding a second convolutional layer\n",
    "classifier.add(Convolution2D(32, 3, 3, activation = 'relu'))\n",
    "classifier.add(MaxPooling2D(pool_size = (2, 2)))\n",
    "\n",
    "# Step 3 - Flattening\n",
    "classifier.add(Flatten())\n",
    "\n",
    "# Step 4 - Full connection\n",
    "classifier.add(Dense(output_dim = 144, activation = 'relu'))\n",
    "classifier.add(Dense(output_dim = 72, activation = 'sigmoid'))\n",
    "\n",
    "# Compiling the CNN\n",
    "classifier.compile(optimizer = 'adam', loss = 'binary_crossentropy', metrics = ['accuracy'])"
   ]
  },
  {
   "cell_type": "code",
   "execution_count": 11,
   "metadata": {
    "colab": {
     "base_uri": "https://localhost:8080/",
     "height": 101
    },
    "colab_type": "code",
    "id": "GTYRYC2mxZ84",
    "outputId": "5489559a-e8ce-47c8-8242-7dcf3b0120e6",
    "scrolled": false
   },
   "outputs": [
    {
     "name": "stdout",
     "output_type": "stream",
     "text": [
      "Found 2797 images belonging to 72 classes.\n",
      "Found 2551 images belonging to 72 classes.\n"
     ]
    },
    {
     "name": "stderr",
     "output_type": "stream",
     "text": [
      "C:\\Users\\carri\\Anaconda\\Anaconda3\\lib\\site-packages\\ipykernel_launcher.py:26: UserWarning: The semantics of the Keras 2 argument `steps_per_epoch` is not the same as the Keras 1 argument `samples_per_epoch`. `steps_per_epoch` is the number of batches to draw from the generator at each epoch. Basically steps_per_epoch = samples_per_epoch/batch_size. Similarly `nb_val_samples`->`validation_steps` and `val_samples`->`steps` arguments have changed. Update your method calls accordingly.\n",
      "C:\\Users\\carri\\Anaconda\\Anaconda3\\lib\\site-packages\\ipykernel_launcher.py:26: UserWarning: Update your `fit_generator` call to the Keras 2 API: `fit_generator(<keras_pre..., validation_data=<keras_pre..., steps_per_epoch=25, epochs=15, validation_steps=200)`\n"
     ]
    },
    {
     "name": "stdout",
     "output_type": "stream",
     "text": [
      "Epoch 1/15\n",
      "25/25 [==============================] - 37s 1s/step - loss: 0.1867 - acc: 0.9372 - val_loss: 0.0958 - val_acc: 0.9861\n",
      "Epoch 2/15\n",
      "25/25 [==============================] - 34s 1s/step - loss: 0.0699 - acc: 0.9861 - val_loss: 0.0804 - val_acc: 0.9861\n",
      "Epoch 3/15\n",
      "25/25 [==============================] - 34s 1s/step - loss: 0.0656 - acc: 0.9861 - val_loss: 0.0762 - val_acc: 0.9861\n",
      "Epoch 4/15\n",
      "25/25 [==============================] - 34s 1s/step - loss: 0.0650 - acc: 0.9861 - val_loss: 0.0750 - val_acc: 0.9861\n",
      "Epoch 5/15\n",
      "25/25 [==============================] - 34s 1s/step - loss: 0.0618 - acc: 0.9861 - val_loss: 0.0738 - val_acc: 0.9861\n",
      "Epoch 6/15\n",
      "25/25 [==============================] - 34s 1s/step - loss: 0.0599 - acc: 0.9861 - val_loss: 0.0740 - val_acc: 0.9863\n",
      "Epoch 7/15\n",
      "25/25 [==============================] - 35s 1s/step - loss: 0.0568 - acc: 0.9864 - val_loss: 0.0731 - val_acc: 0.9864\n",
      "Epoch 8/15\n",
      "25/25 [==============================] - 35s 1s/step - loss: 0.0557 - acc: 0.9864 - val_loss: 0.0716 - val_acc: 0.9862\n",
      "Epoch 9/15\n",
      "25/25 [==============================] - 36s 1s/step - loss: 0.0538 - acc: 0.9865 - val_loss: 0.0722 - val_acc: 0.9861\n",
      "Epoch 10/15\n",
      "25/25 [==============================] - 35s 1s/step - loss: 0.0510 - acc: 0.9865 - val_loss: 0.0742 - val_acc: 0.9859\n",
      "Epoch 11/15\n",
      "25/25 [==============================] - 35s 1s/step - loss: 0.0507 - acc: 0.9860 - val_loss: 0.0722 - val_acc: 0.9862\n",
      "Epoch 12/15\n",
      "25/25 [==============================] - 28s 1s/step - loss: 0.0500 - acc: 0.9864 - val_loss: 0.0743 - val_acc: 0.9861\n",
      "Epoch 13/15\n",
      "25/25 [==============================] - 25s 1s/step - loss: 0.0475 - acc: 0.9866 - val_loss: 0.0714 - val_acc: 0.9862\n",
      "Epoch 14/15\n",
      "25/25 [==============================] - 22s 883ms/step - loss: 0.0464 - acc: 0.9868 - val_loss: 0.0727 - val_acc: 0.9860\n",
      "Epoch 15/15\n",
      "25/25 [==============================] - 22s 866ms/step - loss: 0.0443 - acc: 0.9868 - val_loss: 0.0740 - val_acc: 0.9858\n"
     ]
    },
    {
     "data": {
      "text/plain": [
       "<keras.callbacks.History at 0x1ffae25a3c8>"
      ]
     },
     "execution_count": 11,
     "metadata": {},
     "output_type": "execute_result"
    }
   ],
   "source": [
    "# Part 2 - Fitting the CNN to the images\n",
    "\n",
    "from keras.preprocessing.image import ImageDataGenerator\n",
    "\n",
    "train_datagen = ImageDataGenerator(rescale = 1./255,\n",
    "                                   shear_range = 0.2,\n",
    "                                   zoom_range = 0.2,\n",
    "                                   horizontal_flip = True)\n",
    "\n",
    "test_datagen = ImageDataGenerator(rescale = 1./255)\n",
    "\n",
    "training_set = train_datagen.flow_from_directory('Datasets/Training',\n",
    "                                                 target_size = (64, 64),\n",
    "                                                 batch_size = 32,\n",
    "                                                 class_mode = 'categorical')\n",
    "\n",
    "test_set = test_datagen.flow_from_directory('Datasets/Test',\n",
    "                                            target_size = (64, 64),\n",
    "                                            batch_size = 32,\n",
    "                                            class_mode = 'categorical')\n",
    "\n",
    "classifier.fit_generator(training_set,\n",
    "                         samples_per_epoch = 800,\n",
    "                         nb_epoch = 15,\n",
    "                         validation_data = test_set,\n",
    "                         nb_val_samples = 200)"
   ]
  },
  {
   "cell_type": "code",
   "execution_count": 12,
   "metadata": {
    "colab": {
     "base_uri": "https://localhost:8080/",
     "height": 101
    },
    "colab_type": "code",
    "id": "GTYRYC2mxZ84",
    "outputId": "5489559a-e8ce-47c8-8242-7dcf3b0120e6"
   },
   "outputs": [
    {
     "name": "stdout",
     "output_type": "stream",
     "text": [
      "Test loss: 0.07364966223637263\n",
      "Test accuracy: 0.9861111342906952\n"
     ]
    }
   ],
   "source": [
    "score = classifier.evaluate_generator(test_set, verbose=0, steps=6)\n",
    "print('Test loss:', score[0])\n",
    "print('Test accuracy:', score[1])"
   ]
  },
  {
   "cell_type": "code",
   "execution_count": 72,
   "metadata": {},
   "outputs": [
    {
     "data": {
      "text/plain": [
       "88"
      ]
     },
     "execution_count": 72,
     "metadata": {},
     "output_type": "execute_result"
    }
   ],
   "source": [
    "# classifier.predict_generator(training_set,steps=3)\n",
    "# classifier.predict_classes(training_set)\n",
    "len(training_set)\n",
    "# \n",
    "# for (train_image, _) in training_set:\n",
    "#     classifier.predict_classes(train_image)\n",
    "# \"reverse\" from predicted class to the predicted *label*\n",
    "# Get the actual value *label* for each row\n",
    "\n",
    "# training_set[0]"
   ]
  },
  {
   "cell_type": "code",
   "execution_count": 13,
   "metadata": {
    "colab": {
     "base_uri": "https://localhost:8080/",
     "height": 272
    },
    "colab_type": "code",
    "id": "P6ZW5P9-xiXO",
    "outputId": "72c0466e-aa71-401f-e1ed-1bc090b1b31b"
   },
   "outputs": [],
   "source": [
    "# Save the model\n",
    "classifier.save(\"food_trained_cnn.h5\")"
   ]
  },
  {
   "cell_type": "code",
   "execution_count": 29,
   "metadata": {
    "colab": {
     "base_uri": "https://localhost:8080/",
     "height": 608
    },
    "colab_type": "code",
    "id": "-2BrfAvExkBO",
    "outputId": "67074560-97a9-4e7b-ec2a-1091c3458b07"
   },
   "outputs": [],
   "source": [
    "# Load the model\n",
    "from tensorflow.keras.models import load_model\n",
    "saved_classifier = load_model(\"food_trained_cnn.h5\")"
   ]
  },
  {
   "cell_type": "code",
   "execution_count": 53,
   "metadata": {},
   "outputs": [
    {
     "name": "stdout",
     "output_type": "stream",
     "text": [
      "{0: 'Apple', 1: 'Asparagus', 2: 'Avocado', 3: 'Banana', 4: 'Brown-Cap-Mushroom', 5: 'Cabbage', 6: 'Carrots', 7: 'Chicken Breast', 8: 'Chicken Legs', 9: 'Chicken Thigh', 10: 'Cod', 11: 'Cucumber', 12: 'Eggplant', 13: 'Fish', 14: 'Garlic', 15: 'Ginger', 16: 'Ground Beef', 17: 'Juice', 18: 'Kiwi', 19: 'Leek', 20: 'Lemon', 21: 'Lime', 22: 'Mango', 23: 'Melon', 24: 'Nectarine', 25: 'Oat-Milk', 26: 'Oatghurt', 27: 'Onion', 28: 'Orange', 29: 'Papaya', 30: 'Passion-Fruit', 31: 'Peach', 32: 'Pear', 33: 'Pepper', 34: 'Pineapple', 35: 'Plum', 36: 'Pomegranate', 37: 'Potato', 38: 'Red-Beet', 39: 'Red-Grapefruit', 40: 'Rice', 41: 'Rice Noodles', 42: 'Salmon', 43: 'Satsumas', 44: 'Sour-Cream', 45: 'Sour-Milk', 46: 'Soy-Milk', 47: 'Soyghurt', 48: 'Steak', 49: 'Talapia', 50: 'Tomato', 51: 'Tuna', 52: 'Yoghurt', 53: 'Zucchini', 54: 'black_beans', 55: 'butter', 56: 'cheddar_cheese', 57: 'coconut_milk', 58: 'cottage_cheese', 59: 'egg', 60: 'kidney_bean', 61: 'lentils', 62: 'milk', 63: 'mozzarella_cheese', 64: 'noodles', 65: 'pinto_beans', 66: 'refried_beans', 67: 'sour_cream', 68: 'swiss_cheese', 69: 'tofu', 70: 'white_beans', 71: 'yogurt'}\n"
     ]
    }
   ],
   "source": [
    "# print(training_set.class_indices)\n",
    "# print(training_set.labels)\n",
    "class_index_to_class = { v: k for k, v in training_set.class_indices.items() }\n",
    "print(class_index_to_class)"
   ]
  },
  {
   "cell_type": "code",
   "execution_count": 54,
   "metadata": {
    "colab": {},
    "colab_type": "code",
    "id": "36YbFmR5xp9C"
   },
   "outputs": [],
   "source": [
    "image_size = (64,64)\n",
    "# Refactor above steps into reusable function\n",
    "def predict(image_path):\n",
    "    \"\"\"Use Xception to label image\"\"\"\n",
    "    img = image.load_img(image_path, target_size=image_size)\n",
    "    x = image.img_to_array(img)\n",
    "    x = np.expand_dims(x, axis=0)\n",
    "    x = preprocess_input(x)\n",
    "    prediction = class_index_to_class[saved_classifier.predict(x)[0]]\n",
    "    plt.imshow(img)\n",
    "    print('Predicted: ', prediction)\n",
    "#     print('Predicted:', decode_predictions(predictions, top=5)[0])"
   ]
  },
  {
   "cell_type": "code",
   "execution_count": 55,
   "metadata": {},
   "outputs": [],
   "source": [
    "image_path = os.path.join(\"download.jpg\")\n",
    "# predict(image_path)"
   ]
  },
  {
   "cell_type": "code",
   "execution_count": 59,
   "metadata": {},
   "outputs": [
    {
     "name": "stdout",
     "output_type": "stream",
     "text": [
      "Apple\n"
     ]
    },
    {
     "data": {
      "image/png": "[encoded data removed]",
      "text/plain": [
       "<Figure size 432x288 with 1 Axes>"
      ]
     },
     "metadata": {
      "needs_background": "light"
     },
     "output_type": "display_data"
    }
   ],
   "source": [
    "image_path = os.path.join(\"download.jpg\")\n",
    "test_image = image.load_img(image_path, target_size=(64,64))\n",
    "x = image.img_to_array(test_image)\n",
    "x = np.expand_dims(x, axis=0)\n",
    "# test_image = preprocess_input(x)\n",
    "# { \n",
    "# '1': 'chicken'\n",
    "#  }\n",
    "\n",
    "prediction = class_index_to_class[classifier.predict_classes(x)[0]]\n",
    "# predictions = classifier.predict_classes(training_set.class_indices x)\n",
    "plt.imshow(test_image)\n",
    "# print('Predicted:', decode_predictions(predictions, top=5)[0])\n",
    "print(prediction)\n",
    "\n",
    "# classifier.predict_classes"
   ]
  },
  {
   "cell_type": "code",
   "execution_count": 60,
   "metadata": {},
   "outputs": [
    {
     "name": "stdout",
     "output_type": "stream",
     "text": [
      "{0: 'Apple', 1: 'Asparagus', 2: 'Avocado', 3: 'Banana', 4: 'Brown-Cap-Mushroom', 5: 'Cabbage', 6: 'Carrots', 7: 'Chicken Breast', 8: 'Chicken Legs', 9: 'Chicken Thigh', 10: 'Cod', 11: 'Cucumber', 12: 'Eggplant', 13: 'Fish', 14: 'Garlic', 15: 'Ginger', 16: 'Ground Beef', 17: 'Juice', 18: 'Kiwi', 19: 'Leek', 20: 'Lemon', 21: 'Lime', 22: 'Mango', 23: 'Melon', 24: 'Nectarine', 25: 'Oat-Milk', 26: 'Oatghurt', 27: 'Onion', 28: 'Orange', 29: 'Papaya', 30: 'Passion-Fruit', 31: 'Peach', 32: 'Pear', 33: 'Pepper', 34: 'Pineapple', 35: 'Plum', 36: 'Pomegranate', 37: 'Potato', 38: 'Red-Beet', 39: 'Red-Grapefruit', 40: 'Rice', 41: 'Rice Noodles', 42: 'Salmon', 43: 'Satsumas', 44: 'Sour-Cream', 45: 'Sour-Milk', 46: 'Soy-Milk', 47: 'Soyghurt', 48: 'Steak', 49: 'Talapia', 50: 'Tomato', 51: 'Tuna', 52: 'Yoghurt', 53: 'Zucchini', 54: 'black_beans', 55: 'butter', 56: 'cheddar_cheese', 57: 'coconut_milk', 58: 'cottage_cheese', 59: 'egg', 60: 'kidney_bean', 61: 'lentils', 62: 'milk', 63: 'mozzarella_cheese', 64: 'noodles', 65: 'pinto_beans', 66: 'refried_beans', 67: 'sour_cream', 68: 'swiss_cheese', 69: 'tofu', 70: 'white_beans', 71: 'yogurt'}\n"
     ]
    }
   ],
   "source": [
    "print(class_index_to_class)"
   ]
  },
  {
   "cell_type": "code",
   "execution_count": 45,
   "metadata": {},
   "outputs": [],
   "source": [
    "for pred in predictions:\n",
    "    for p in pred:\n",
    "        if p >= .2:\n",
    "            print(p)"
   ]
  },
  {
   "cell_type": "code",
   "execution_count": null,
   "metadata": {},
   "outputs": [],
   "source": []
  }
 ],
 "metadata": {
  "colab": {
   "collapsed_sections": [],
   "name": "Food_CNN.ipynb",
   "provenance": [],
   "version": "0.3.2"
  },
  "hide_input": false,
  "kernelspec": {
   "display_name": "Python 3",
   "language": "python",
   "name": "python3"
  },
  "language_info": {
   "codemirror_mode": {
    "name": "ipython",
    "version": 3
   },
   "file_extension": ".py",
   "mimetype": "text/x-python",
   "name": "python",
   "nbconvert_exporter": "python",
   "pygments_lexer": "ipython3",
   "version": "3.7.1"
  },
  "toc": {
   "base_numbering": 1,
   "nav_menu": {},
   "number_sections": true,
   "sideBar": true,
   "skip_h1_title": false,
   "title_cell": "Table of Contents",
   "title_sidebar": "Contents",
   "toc_cell": false,
   "toc_position": {},
   "toc_section_display": true,
   "toc_window_display": false
  },
  "varInspector": {
   "cols": {
    "lenName": 16,
    "lenType": 16,
    "lenVar": 40
   },
   "kernels_config": {
    "python": {
     "delete_cmd_postfix": "",
     "delete_cmd_prefix": "del ",
     "library": "var_list.py",
     "varRefreshCmd": "print(var_dic_list())"
    },
    "r": {
     "delete_cmd_postfix": ") ",
     "delete_cmd_prefix": "rm(",
     "library": "var_list.r",
     "varRefreshCmd": "cat(var_dic_list()) "
    }
   },
   "types_to_exclude": [
    "module",
    "function",
    "builtin_function_or_method",
    "instance",
    "_Feature"
   ],
   "window_display": false
  }
 },
 "nbformat": 4,
 "nbformat_minor": 1
}
