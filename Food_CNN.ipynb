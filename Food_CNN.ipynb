{
 "cells": [
  {
   "cell_type": "code",
   "execution_count": 8,
   "metadata": {
    "colab": {
     "base_uri": "https://localhost:8080/",
     "height": 34
    },
    "colab_type": "code",
    "id": "gnHvNy47xOc6",
    "outputId": "4645ee8b-3d61-44d7-d9fe-b1618e67a5a4"
   },
   "outputs": [],
   "source": [
    "# Convolutional Neural Network\n",
    "\n",
    "# Installing Theano\n",
    "# pip install --upgrade --no-deps git+git://github.com/Theano/Theano.git\n",
    "\n",
    "# Installing Tensorflow\n",
    "# Install Tensorflow from the website: https://www.tensorflow.org/versions/r0.12/get_started/os_setup.html\n",
    "\n",
    "# Installing Keras\n",
    "# pip install --upgrade keras\n",
    "\n",
    "# Part 1 - Building the CNN\n",
    "\n",
    "# Importing the Keras libraries and packages\n",
    "from keras.models import Sequential\n",
    "from keras.layers import Convolution2D\n",
    "from keras.layers import MaxPooling2D\n",
    "from keras.layers import Flatten\n",
    "from keras.layers import Dense"
   ]
  },
  {
   "cell_type": "code",
   "execution_count": 6,
   "metadata": {
    "colab": {
     "base_uri": "https://localhost:8080/",
     "height": 101
    },
    "colab_type": "code",
    "id": "GTYRYC2mxZ84",
    "outputId": "5489559a-e8ce-47c8-8242-7dcf3b0120e6"
   },
   "outputs": [
    {
     "name": "stderr",
     "output_type": "stream",
     "text": [
      "C:\\Users\\carri\\Anaconda\\Anaconda3\\lib\\site-packages\\ipykernel_launcher.py:7: UserWarning: Update your `Conv2D` call to the Keras 2 API: `Conv2D(32, (3, 3), input_shape=(64, 64, 3..., activation=\"relu\")`\n",
      "  import sys\n",
      "C:\\Users\\carri\\Anaconda\\Anaconda3\\lib\\site-packages\\ipykernel_launcher.py:13: UserWarning: Update your `Conv2D` call to the Keras 2 API: `Conv2D(32, (3, 3), activation=\"relu\")`\n",
      "  del sys.path[0]\n",
      "C:\\Users\\carri\\Anaconda\\Anaconda3\\lib\\site-packages\\ipykernel_launcher.py:20: UserWarning: Update your `Dense` call to the Keras 2 API: `Dense(activation=\"relu\", units=96)`\n",
      "C:\\Users\\carri\\Anaconda\\Anaconda3\\lib\\site-packages\\ipykernel_launcher.py:21: UserWarning: Update your `Dense` call to the Keras 2 API: `Dense(activation=\"sigmoid\", units=48)`\n"
     ]
    }
   ],
   "source": [
    "from keras.preprocessing.image import ImageDataGenerator\n",
    "\n",
    "# Initialising the CNN\n",
    "classifier = Sequential()\n",
    "\n",
    "# Step 1 - Convolution\n",
    "classifier.add(Convolution2D(32, 3, 3, input_shape = (64, 64, 3), activation = 'relu'))\n",
    "\n",
    "# Step 2 - Pooling\n",
    "classifier.add(MaxPooling2D(pool_size = (2, 2)))\n",
    "\n",
    "# Adding a second convolutional layer\n",
    "classifier.add(Convolution2D(32, 3, 3, activation = 'relu'))\n",
    "classifier.add(MaxPooling2D(pool_size = (2, 2)))\n",
    "\n",
    "# Step 3 - Flattening\n",
    "classifier.add(Flatten())\n",
    "\n",
    "# Step 4 - Full connection\n",
    "classifier.add(Dense(output_dim = 96, activation = 'relu'))\n",
    "classifier.add(Dense(output_dim = 48, activation = 'sigmoid'))\n",
    "\n",
    "# Compiling the CNN\n",
    "classifier.compile(optimizer = 'adam', loss = 'binary_crossentropy', metrics = ['accuracy'])"
   ]
  },
  {
   "cell_type": "code",
   "execution_count": 7,
   "metadata": {
    "colab": {
     "base_uri": "https://localhost:8080/",
     "height": 101
    },
    "colab_type": "code",
    "id": "GTYRYC2mxZ84",
    "outputId": "5489559a-e8ce-47c8-8242-7dcf3b0120e6",
    "scrolled": false
   },
   "outputs": [
    {
     "name": "stdout",
     "output_type": "stream",
     "text": [
      "Found 1841 images belonging to 48 classes.\n",
      "Found 1717 images belonging to 48 classes.\n"
     ]
    },
    {
     "name": "stderr",
     "output_type": "stream",
     "text": [
      "C:\\Users\\carri\\Anaconda\\Anaconda3\\lib\\site-packages\\ipykernel_launcher.py:26: UserWarning: The semantics of the Keras 2 argument `steps_per_epoch` is not the same as the Keras 1 argument `samples_per_epoch`. `steps_per_epoch` is the number of batches to draw from the generator at each epoch. Basically steps_per_epoch = samples_per_epoch/batch_size. Similarly `nb_val_samples`->`validation_steps` and `val_samples`->`steps` arguments have changed. Update your method calls accordingly.\n",
      "C:\\Users\\carri\\Anaconda\\Anaconda3\\lib\\site-packages\\ipykernel_launcher.py:26: UserWarning: Update your `fit_generator` call to the Keras 2 API: `fit_generator(<keras_pre..., validation_data=<keras_pre..., steps_per_epoch=25, epochs=15, validation_steps=200)`\n"
     ]
    },
    {
     "name": "stdout",
     "output_type": "stream",
     "text": [
      "Epoch 1/15\n",
      "25/25 [==============================] - 37s 1s/step - loss: 0.2167 - acc: 0.9362 - val_loss: 0.1170 - val_acc: 0.9792\n",
      "Epoch 2/15\n",
      "25/25 [==============================] - 35s 1s/step - loss: 0.0971 - acc: 0.9792 - val_loss: 0.1038 - val_acc: 0.9792\n",
      "Epoch 3/15\n",
      "25/25 [==============================] - 35s 1s/step - loss: 0.0898 - acc: 0.9792 - val_loss: 0.0993 - val_acc: 0.9792\n",
      "Epoch 4/15\n",
      "25/25 [==============================] - 35s 1s/step - loss: 0.0899 - acc: 0.9792 - val_loss: 0.0946 - val_acc: 0.9792\n",
      "Epoch 5/15\n",
      "25/25 [==============================] - 35s 1s/step - loss: 0.0871 - acc: 0.9792 - val_loss: 0.0934 - val_acc: 0.9795\n",
      "Epoch 6/15\n",
      "25/25 [==============================] - 35s 1s/step - loss: 0.0816 - acc: 0.9799 - val_loss: 0.0893 - val_acc: 0.9798\n",
      "Epoch 7/15\n",
      "25/25 [==============================] - 35s 1s/step - loss: 0.0800 - acc: 0.9796 - val_loss: 0.0919 - val_acc: 0.9796\n",
      "Epoch 8/15\n",
      "25/25 [==============================] - 36s 1s/step - loss: 0.0745 - acc: 0.9798 - val_loss: 0.0934 - val_acc: 0.9797\n",
      "Epoch 9/15\n",
      "25/25 [==============================] - 34s 1s/step - loss: 0.0742 - acc: 0.9795 - val_loss: 0.0872 - val_acc: 0.9794\n",
      "Epoch 10/15\n",
      "25/25 [==============================] - 33s 1s/step - loss: 0.0696 - acc: 0.9795 - val_loss: 0.0934 - val_acc: 0.9792\n",
      "Epoch 11/15\n",
      "25/25 [==============================] - 34s 1s/step - loss: 0.0673 - acc: 0.9797 - val_loss: 0.0906 - val_acc: 0.9787\n",
      "Epoch 12/15\n",
      "25/25 [==============================] - 34s 1s/step - loss: 0.0647 - acc: 0.9797 - val_loss: 0.0892 - val_acc: 0.9795\n",
      "Epoch 13/15\n",
      "25/25 [==============================] - 32s 1s/step - loss: 0.0622 - acc: 0.9807 - val_loss: 0.0895 - val_acc: 0.9788\n",
      "Epoch 14/15\n",
      "25/25 [==============================] - 35s 1s/step - loss: 0.0610 - acc: 0.9801 - val_loss: 0.0926 - val_acc: 0.9793\n",
      "Epoch 15/15\n",
      "25/25 [==============================] - 35s 1s/step - loss: 0.0569 - acc: 0.9807 - val_loss: 0.0908 - val_acc: 0.9779\n"
     ]
    },
    {
     "data": {
      "text/plain": [
       "<keras.callbacks.History at 0x1ffafa6d080>"
      ]
     },
     "execution_count": 7,
     "metadata": {},
     "output_type": "execute_result"
    }
   ],
   "source": [
    "# Part 2 - Fitting the CNN to the images\n",
    "\n",
    "from keras.preprocessing.image import ImageDataGenerator\n",
    "\n",
    "train_datagen = ImageDataGenerator(rescale = 1./255,\n",
    "                                   shear_range = 0.2,\n",
    "                                   zoom_range = 0.2,\n",
    "                                   horizontal_flip = True)\n",
    "\n",
    "test_datagen = ImageDataGenerator(rescale = 1./255)\n",
    "\n",
    "training_set = train_datagen.flow_from_directory('Datasets/Training',\n",
    "                                                 target_size = (64, 64),\n",
    "                                                 batch_size = 32,\n",
    "                                                 class_mode = 'categorical')\n",
    "\n",
    "test_set = test_datagen.flow_from_directory('Datasets/Test',\n",
    "                                            target_size = (64, 64),\n",
    "                                            batch_size = 32,\n",
    "                                            class_mode = 'categorical')\n",
    "\n",
    "classifier.fit_generator(training_set,\n",
    "                         samples_per_epoch = 800,\n",
    "                         nb_epoch = 15,\n",
    "                         validation_data = test_set,\n",
    "                         nb_val_samples = 200)"
   ]
  },
  {
   "cell_type": "code",
   "execution_count": null,
   "metadata": {
    "colab": {
     "base_uri": "https://localhost:8080/",
     "height": 101
    },
    "colab_type": "code",
    "id": "GTYRYC2mxZ84",
    "outputId": "5489559a-e8ce-47c8-8242-7dcf3b0120e6"
   },
   "outputs": [],
   "source": [
    "score = classifier.evaluate_generator(test_set, verbose=0, steps=6)\n",
    "print('Test loss:', score[0])\n",
    "print('Test accuracy:', score[1])"
   ]
  },
  {
   "cell_type": "code",
   "execution_count": null,
   "metadata": {},
   "outputs": [],
   "source": [
    "classifier.predict_generator(test_set,steps=3)"
   ]
  },
  {
   "cell_type": "code",
   "execution_count": null,
   "metadata": {
    "colab": {
     "base_uri": "https://localhost:8080/",
     "height": 272
    },
    "colab_type": "code",
    "id": "P6ZW5P9-xiXO",
    "outputId": "72c0466e-aa71-401f-e1ed-1bc090b1b31b"
   },
   "outputs": [],
   "source": []
  },
  {
   "cell_type": "code",
   "execution_count": null,
   "metadata": {
    "colab": {
     "base_uri": "https://localhost:8080/",
     "height": 608
    },
    "colab_type": "code",
    "id": "-2BrfAvExkBO",
    "outputId": "67074560-97a9-4e7b-ec2a-1091c3458b07"
   },
   "outputs": [],
   "source": []
  },
  {
   "cell_type": "code",
   "execution_count": null,
   "metadata": {
    "colab": {},
    "colab_type": "code",
    "id": "36YbFmR5xp9C"
   },
   "outputs": [],
   "source": []
  }
 ],
 "metadata": {
  "colab": {
   "collapsed_sections": [],
   "name": "Food_CNN.ipynb",
   "provenance": [],
   "version": "0.3.2"
  },
  "hide_input": false,
  "kernelspec": {
   "display_name": "Python 3",
   "language": "python",
   "name": "python3"
  },
  "toc": {
   "base_numbering": 1,
   "nav_menu": {},
   "number_sections": true,
   "sideBar": true,
   "skip_h1_title": false,
   "title_cell": "Table of Contents",
   "title_sidebar": "Contents",
   "toc_cell": false,
   "toc_position": {},
   "toc_section_display": true,
   "toc_window_display": false
  },
  "varInspector": {
   "cols": {
    "lenName": 16,
    "lenType": 16,
    "lenVar": 40
   },
   "kernels_config": {
    "python": {
     "delete_cmd_postfix": "",
     "delete_cmd_prefix": "del ",
     "library": "var_list.py",
     "varRefreshCmd": "print(var_dic_list())"
    },
    "r": {
     "delete_cmd_postfix": ") ",
     "delete_cmd_prefix": "rm(",
     "library": "var_list.r",
     "varRefreshCmd": "cat(var_dic_list()) "
    }
   },
   "types_to_exclude": [
    "module",
    "function",
    "builtin_function_or_method",
    "instance",
    "_Feature"
   ],
   "window_display": false
  }
 },
 "nbformat": 4,
 "nbformat_minor": 1
}
